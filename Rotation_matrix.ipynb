{
  "cells": [
    {
      "cell_type": "markdown",
      "metadata": {
        "id": "view-in-github",
        "colab_type": "text"
      },
      "source": [
        "<a href=\"https://colab.research.google.com/github/fereshtehdehkhoda/Example-15-Rotation-matrix/blob/main/Rotation_matrix.ipynb\" target=\"_parent\"><img src=\"https://colab.research.google.com/assets/colab-badge.svg\" alt=\"Open In Colab\"/></a>"
      ]
    },
    {
      "cell_type": "code",
      "execution_count": null,
      "id": "b31fdb68-3681-4cbe-aa07-3aa95e11c72c",
      "metadata": {
        "id": "b31fdb68-3681-4cbe-aa07-3aa95e11c72c"
      },
      "outputs": [],
      "source": [
        "#اگر بردار u = (2, 3)\n",
        "#را 30 درجه پاد ساعتگرد دوران دهید، مختصات بردار دوران‌یافته کدام است؟"
      ]
    },
    {
      "cell_type": "code",
      "execution_count": null,
      "id": "b26cef40-985d-4d53-a426-8b680678ed7e",
      "metadata": {
        "id": "b26cef40-985d-4d53-a426-8b680678ed7e"
      },
      "outputs": [],
      "source": [
        "import math\n",
        "import numpy as np"
      ]
    },
    {
      "cell_type": "code",
      "execution_count": null,
      "id": "465131da-753b-4b9d-97f7-51167ee15c66",
      "metadata": {
        "id": "465131da-753b-4b9d-97f7-51167ee15c66",
        "outputId": "7a588afb-ef39-4ccc-a4b3-b928cf1db8c2"
      },
      "outputs": [
        {
          "data": {
            "text/plain": [
              "array([2, 3])"
            ]
          },
          "execution_count": 7,
          "metadata": {},
          "output_type": "execute_result"
        }
      ],
      "source": [
        "u=np.array([2,3])\n",
        "u"
      ]
    },
    {
      "cell_type": "code",
      "execution_count": null,
      "id": "aca614c5-a480-42f8-ad89-821ded01de1f",
      "metadata": {
        "id": "aca614c5-a480-42f8-ad89-821ded01de1f",
        "outputId": "2b58f8aa-e7e9-4a21-d937-549193f1b008"
      },
      "outputs": [
        {
          "data": {
            "text/plain": [
              "array([[ 0.8660254, -0.5      ],\n",
              "       [ 0.5      ,  0.8660254]])"
            ]
          },
          "execution_count": 9,
          "metadata": {},
          "output_type": "execute_result"
        }
      ],
      "source": [
        "R=np.array([[(3**0.5)/2,-0.5],[0.5,(3**0.5)/2]])\n",
        "R"
      ]
    },
    {
      "cell_type": "code",
      "execution_count": null,
      "id": "b7873f1d-98e9-4c52-a0e7-1e4817f64c6c",
      "metadata": {
        "id": "b7873f1d-98e9-4c52-a0e7-1e4817f64c6c",
        "outputId": "c2698b72-a84a-446d-ff07-ba4b0bec0b50"
      },
      "outputs": [
        {
          "data": {
            "text/plain": [
              "array([0.23205081, 3.59807621])"
            ]
          },
          "execution_count": 11,
          "metadata": {},
          "output_type": "execute_result"
        }
      ],
      "source": [
        "np.dot(R,u)"
      ]
    },
    {
      "cell_type": "code",
      "execution_count": null,
      "id": "ddece902-9216-4b03-9e9c-a239f39feafd",
      "metadata": {
        "id": "ddece902-9216-4b03-9e9c-a239f39feafd"
      },
      "outputs": [],
      "source": []
    }
  ],
  "metadata": {
    "kernelspec": {
      "display_name": "Python 3 (ipykernel)",
      "language": "python",
      "name": "python3"
    },
    "language_info": {
      "codemirror_mode": {
        "name": "ipython",
        "version": 3
      },
      "file_extension": ".py",
      "mimetype": "text/x-python",
      "name": "python",
      "nbconvert_exporter": "python",
      "pygments_lexer": "ipython3",
      "version": "3.12.4"
    },
    "colab": {
      "provenance": [],
      "include_colab_link": true
    }
  },
  "nbformat": 4,
  "nbformat_minor": 5
}